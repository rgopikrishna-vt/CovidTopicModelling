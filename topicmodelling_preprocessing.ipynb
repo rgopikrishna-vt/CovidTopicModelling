{
 "cells": [
  {
   "cell_type": "code",
   "execution_count": 1,
   "metadata": {},
   "outputs": [
    {
     "name": "stderr",
     "output_type": "stream",
     "text": [
      "[nltk_data] Downloading package stopwords to\n",
      "[nltk_data]     /home/rgopikrishna/nltk_data...\n",
      "[nltk_data]   Package stopwords is already up-to-date!\n"
     ]
    }
   ],
   "source": [
    "import jsonlines\n",
    "import tqdm\n",
    "from datetime import datetime\n",
    "import nltk\n",
    "nltk.download('stopwords')\n",
    "import spacy\n",
    "spacy.load('en')\n",
    "from spacy.lang.en import English\n",
    "from nltk.stem import PorterStemmer \n",
    "from nltk.tokenize import word_tokenize\n",
    "ps = PorterStemmer()\n",
    "parser = English()\n",
    "en_stop = set(nltk.corpus.stopwords.words('english'))\n",
    "from gensim import corpora\n",
    "import pickle"
   ]
  },
  {
   "cell_type": "code",
   "execution_count": 2,
   "metadata": {},
   "outputs": [],
   "source": [
    "timestart = datetime.now()\n",
    "data = {}\n",
    "\n",
    "with open('aylien-covid-news.jsonl', 'rb') as f:\n",
    "    for item in jsonlines.Reader(f):\n",
    "        data[item['id']] = item['body']\n",
    "        \n",
    "duration = datetime.now() - timestart"
   ]
  },
  {
   "cell_type": "code",
   "execution_count": 4,
   "metadata": {},
   "outputs": [],
   "source": [
    "def tokenize(text):\n",
    "    lda_tokens = []\n",
    "    tokens = parser(text)\n",
    "    for token in tokens:\n",
    "        if token.orth_.isspace():\n",
    "            continue\n",
    "        elif token.is_stop:\n",
    "            continue\n",
    "        elif token.is_digit:\n",
    "            continue\n",
    "        elif token.is_punct:\n",
    "            continue\n",
    "        elif 'covid' in token.lower_ or 'virus' in token.lower_ or 'corona' in token.lower_:\n",
    "            continue\n",
    "        elif token.lower_ in en_stop:\n",
    "            continue\n",
    "        else:\n",
    "            if ps.stem(token.lower_) in lda_tokens:\n",
    "                continue\n",
    "            lda_tokens.append(ps.stem(token.lower_))\n",
    "    return lda_tokens"
   ]
  },
  {
   "cell_type": "code",
   "execution_count": 9,
   "metadata": {},
   "outputs": [],
   "source": [
    "tokenizeddocs = {}\n",
    "for key in data:\n",
    "    tokenizeddocs[key] = tokenize(data[key])"
   ]
  },
  {
   "cell_type": "code",
   "execution_count": 12,
   "metadata": {},
   "outputs": [
    {
     "data": {
      "text/plain": [
       "['ontario',\n",
       " 'long',\n",
       " 'term',\n",
       " 'care',\n",
       " 'home',\n",
       " 'task',\n",
       " 'tri',\n",
       " 'contain',\n",
       " 'spread',\n",
       " 'ensur',\n",
       " 'resid',\n",
       " 'die',\n",
       " 'comfort',\n",
       " 'final',\n",
       " 'moment']"
      ]
     },
     "execution_count": 12,
     "metadata": {},
     "output_type": "execute_result"
    }
   ],
   "source": [
    "tokenizeddocs[74188097]"
   ]
  },
  {
   "cell_type": "code",
   "execution_count": 15,
   "metadata": {},
   "outputs": [],
   "source": [
    "with open('tokenizedarticles.pickle', 'wb') as filehandle:\n",
    "    pickle.dump(tokenizeddocs, filehandle)"
   ]
  },
  {
   "cell_type": "code",
   "execution_count": 16,
   "metadata": {},
   "outputs": [],
   "source": [
    "listtokenarticles = list(tokenizeddocs.values())"
   ]
  },
  {
   "cell_type": "code",
   "execution_count": 20,
   "metadata": {},
   "outputs": [],
   "source": [
    "dictionary = corpora.Dictionary(listtokenarticles)"
   ]
  },
  {
   "cell_type": "code",
   "execution_count": 21,
   "metadata": {},
   "outputs": [],
   "source": [
    "corpus = [dictionary.doc2bow(text) for text in listtokenarticles]"
   ]
  },
  {
   "cell_type": "code",
   "execution_count": null,
   "metadata": {},
   "outputs": [],
   "source": []
  }
 ],
 "metadata": {
  "kernelspec": {
   "display_name": "Python 3",
   "language": "python",
   "name": "python3"
  },
  "language_info": {
   "codemirror_mode": {
    "name": "ipython",
    "version": 3
   },
   "file_extension": ".py",
   "mimetype": "text/x-python",
   "name": "python",
   "nbconvert_exporter": "python",
   "pygments_lexer": "ipython3",
   "version": "3.6.10"
  }
 },
 "nbformat": 4,
 "nbformat_minor": 4
}
